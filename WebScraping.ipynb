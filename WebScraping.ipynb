{
 "cells": [
  {
   "metadata": {
    "collapsed": true,
    "ExecuteTime": {
     "end_time": "2024-11-09T02:51:21.189875Z",
     "start_time": "2024-11-09T02:51:21.156725Z"
    }
   },
   "cell_type": "code",
   "source": [
    "from selenium import webdriver\n",
    "from selenium.webdriver.support.ui import WebDriverWait\n",
    "from selenium.webdriver.common.by import By\n",
    "from selenium.webdriver.support import expected_conditions as EC\n",
    "import time\n",
    "from parsel import Selector\n",
    "from selenium.webdriver.common.keys import Keys"
   ],
   "id": "initial_id",
   "outputs": [],
   "execution_count": 1
  },
  {
   "metadata": {
    "ExecuteTime": {
     "end_time": "2024-11-09T02:51:21.381193Z",
     "start_time": "2024-11-09T02:51:21.197955Z"
    }
   },
   "cell_type": "code",
   "source": [
    "options = webdriver.ChromeOptions()\n",
    "options.add_argument('--headless=new')\n",
    "options.add_argument(\"--window-size=1920x1080\")\n",
    "options.add_argument('start-maximized')\n",
    "options.add_experimental_option(\n",
    "    \"prefs\", {\"profile.managed_default_content_settings.images\": 2}\n",
    ")\n",
    "driver = webdriver.Chrome(options=options)"
   ],
   "id": "aeb70d7dd74d1605",
   "outputs": [],
   "execution_count": 2
  },
  {
   "metadata": {
    "ExecuteTime": {
     "end_time": "2024-11-09T02:51:23.175827Z",
     "start_time": "2024-11-09T02:51:21.403826Z"
    }
   },
   "cell_type": "code",
   "source": [
    "driver.get(\"https://www.twitch.tv/directory/game/Art\")\n",
    "element = WebDriverWait(driver=driver, timeout=5).until(\n",
    "    EC.presence_of_element_located((By.CSS_SELECTOR, 'div[data-target=directory-first-item]'))\n",
    ")"
   ],
   "id": "93a9aeb049d852f",
   "outputs": [],
   "execution_count": 3
  },
  {
   "metadata": {
    "ExecuteTime": {
     "end_time": "2024-11-09T02:51:23.251457Z",
     "start_time": "2024-11-09T02:51:23.178750Z"
    }
   },
   "cell_type": "code",
   "source": [
    "sel = Selector(text=driver.page_source)\n",
    "parsed = []\n",
    "for item in sel.xpath('//div[contains(@class,\"tw-tower\")]/div[@data-target]'):\n",
    "    parsed.append({\n",
    "        'title': item.css('h3::text').get(),\n",
    "        'url': item.css('.tw-link::Attr(href)').get(),\n",
    "        'username': item.css('.tw-link::text').get(),\n",
    "        'tags': item.css('.tw-tag::text').get(),\n",
    "        'viewers': ''.join(item.css('.tw-media-card-stat::text').re(r'(\\d+)'))\n",
    "    })"
   ],
   "id": "7f843ba7f2e16528",
   "outputs": [],
   "execution_count": 4
  },
  {
   "metadata": {
    "ExecuteTime": {
     "end_time": "2024-11-09T02:51:24.400568Z",
     "start_time": "2024-11-09T02:51:23.255569Z"
    }
   },
   "cell_type": "code",
   "source": [
    "driver.get('https://www.twitch.tv/')\n",
    "search_box = driver.find_element(By.CSS_SELECTOR, 'input[aria-label=\"Search Input\"]')\n",
    "search_box.send_keys(\"fast painting\")\n",
    "search_box.send_keys(Keys.ENTER)"
   ],
   "id": "b82f98d88e9d7096",
   "outputs": [],
   "execution_count": 5
  },
  {
   "metadata": {
    "ExecuteTime": {
     "end_time": "2024-11-09T02:53:36.767528Z",
     "start_time": "2024-11-09T02:53:35.240300Z"
    }
   },
   "cell_type": "code",
   "source": [
    "driver.get('https://www.twitch.tv/directory/game/Art')\n",
    "driver.execute_script(\n",
    "    \"\"\"\n",
    "    let items=document.querySelectorAll('.tw-tower>div');\n",
    "    items[items.length-1].scrollIntoView();\n",
    "    \"\"\"\n",
    ")"
   ],
   "id": "e3973ae85fb7a196",
   "outputs": [],
   "execution_count": 6
  },
  {
   "metadata": {},
   "cell_type": "code",
   "outputs": [],
   "execution_count": null,
   "source": "",
   "id": "27619264efa2785c"
  }
 ],
 "metadata": {
  "kernelspec": {
   "display_name": "Python 3",
   "language": "python",
   "name": "python3"
  },
  "language_info": {
   "codemirror_mode": {
    "name": "ipython",
    "version": 2
   },
   "file_extension": ".py",
   "mimetype": "text/x-python",
   "name": "python",
   "nbconvert_exporter": "python",
   "pygments_lexer": "ipython2",
   "version": "2.7.6"
  }
 },
 "nbformat": 4,
 "nbformat_minor": 5
}
